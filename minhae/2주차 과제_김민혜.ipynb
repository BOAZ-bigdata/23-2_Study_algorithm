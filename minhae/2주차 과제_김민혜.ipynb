{
 "cells": [
  {
   "cell_type": "markdown",
   "id": "1545cb2f",
   "metadata": {},
   "source": [
    "슬라이딩 윈도우 문제 9번. DNA 비밀번호\n",
    "<br>\n",
    "이 문제 결국 해결을 못했는데, 나중에 한번 디버깅할 예정입니다. 너무 어려웠어요,,,"
   ]
  },
  {
   "cell_type": "code",
   "execution_count": 7,
   "id": "8147ed5b",
   "metadata": {},
   "outputs": [
    {
     "name": "stdout",
     "output_type": "stream",
     "text": [
      "4 2\n",
      "GATA\n",
      "1 0 0 1\n",
      "8\n"
     ]
    }
   ],
   "source": [
    "current = [0]*4\n",
    "result = 0\n",
    "result2 = 0\n",
    "\n",
    "S, P = map(int, input().split())\n",
    "DNA = list(input())\n",
    "min_number = list(map(int, input().split()))\n",
    "\n",
    "def add(char):\n",
    "    if char == 'A':\n",
    "        current[0] += 1\n",
    "    elif char == 'C':\n",
    "        current[1] += 1\n",
    "    elif char == 'G':\n",
    "        current[2] += 1\n",
    "    else:\n",
    "        current[3] += 1\n",
    "        \n",
    "def minus(char):\n",
    "    if char == 'A':\n",
    "        current[0] -= 1\n",
    "    elif char == 'C':\n",
    "        current[1] -= 1\n",
    "    elif char == 'G':\n",
    "        current[2] -= 1\n",
    "    else: \n",
    "        current[3] -= 1\n",
    "\n",
    "for i in range(P):\n",
    "    add(DNA[i])\n",
    "\n",
    "for i in range(4):\n",
    "    if current[i] >= min_number[i]:\n",
    "        result += 1\n",
    "    else:\n",
    "        result = 0\n",
    "        \n",
    "for i in range(P, S):\n",
    "    k = i - P\n",
    "    add(DNA[i])\n",
    "    minus(DNA[k])\n",
    "    for s in range(4):\n",
    "        if current[s] >= min_number[s]:\n",
    "            result2 += 1\n",
    "        else:\n",
    "            result2 = 0\n",
    "        \n",
    "        \n",
    "print(result2 + result)"
   ]
  },
  {
   "cell_type": "markdown",
   "id": "676cbc4e",
   "metadata": {},
   "source": [
    "스택. 문제 11번. 스택으로 수열 만들기 "
   ]
  },
  {
   "cell_type": "code",
   "execution_count": 8,
   "id": "1e9a2eb0",
   "metadata": {},
   "outputs": [
    {
     "name": "stdout",
     "output_type": "stream",
     "text": [
      "8\n",
      "4\n",
      "3\n",
      "6\n",
      "8\n",
      "7\n",
      "5\n",
      "2\n",
      "1\n",
      "+\n",
      "+\n",
      "+\n",
      "+\n",
      "-\n",
      "-\n",
      "+\n",
      "+\n",
      "-\n",
      "+\n",
      "+\n",
      "-\n",
      "-\n",
      "-\n",
      "-\n",
      "-\n"
     ]
    }
   ],
   "source": [
    "n = int(input())\n",
    "bin_list = []\n",
    "\n",
    "for i in range(n):\n",
    "    a = int(input())\n",
    "    bin_list.append(a)\n",
    "    \n",
    "bin_list2 = []\n",
    "number = 1\n",
    "\n",
    "for i in range(n):\n",
    "    if bin_list[i] >= number:\n",
    "        while bin_list[i] >= number:\n",
    "            bin_list2.append(number)\n",
    "            number += 1\n",
    "            print(\"+\")\n",
    "        bin_list2.pop()\n",
    "        print('-')\n",
    "    else:\n",
    "        pop = bin_list2.pop()\n",
    "        if pop > bin_list[i]:\n",
    "            print(\"NO\")\n",
    "            break\n",
    "        else:\n",
    "            print('-')\n",
    "                    "
   ]
  },
  {
   "cell_type": "markdown",
   "id": "c9a23cd8",
   "metadata": {},
   "source": [
    "문제 13번. 카드 게임 "
   ]
  },
  {
   "cell_type": "code",
   "execution_count": 10,
   "id": "390459dd",
   "metadata": {},
   "outputs": [
    {
     "name": "stdout",
     "output_type": "stream",
     "text": [
      "6\n",
      "4\n"
     ]
    }
   ],
   "source": [
    "from collections import deque\n",
    "n = int(input())\n",
    "card = deque([x for x in range(1, n+1)])\n",
    "\n",
    "while len(card)>1:\n",
    "    card.popleft()\n",
    "    card.append(card.popleft())\n",
    "    \n",
    "print(card[0])"
   ]
  },
  {
   "cell_type": "code",
   "execution_count": null,
   "id": "ba313a51",
   "metadata": {},
   "outputs": [],
   "source": []
  }
 ],
 "metadata": {
  "kernelspec": {
   "display_name": "Python 3 (ipykernel)",
   "language": "python",
   "name": "python3"
  },
  "language_info": {
   "codemirror_mode": {
    "name": "ipython",
    "version": 3
   },
   "file_extension": ".py",
   "mimetype": "text/x-python",
   "name": "python",
   "nbconvert_exporter": "python",
   "pygments_lexer": "ipython3",
   "version": "3.10.6"
  }
 },
 "nbformat": 4,
 "nbformat_minor": 5
}
