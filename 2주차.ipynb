{
 "cells": [
  {
   "cell_type": "code",
   "execution_count": 12,
   "id": "cad2ecaa",
   "metadata": {},
   "outputs": [
    {
     "name": "stdout",
     "output_type": "stream",
     "text": [
      "4 2\n",
      "GATA\n",
      "1 0 0 1\n",
      "2\n"
     ]
    }
   ],
   "source": [
    "## 12891 - DNA 비밀번호\n",
    "s, p = map(int, input().split())\n",
    "pw = input()\n",
    "a, c, g, t = map(int, input().split())\n",
    "\n",
    "cnt = 0\n",
    "\n",
    "arr = [0, 0, 0, 0]\n",
    "for i in range (p):\n",
    "    if pw[i] == 'A': arr[0] += 1\n",
    "    elif pw[i] == 'C': arr[1] += 1\n",
    "    elif pw[i] == 'G': arr[2] += 1\n",
    "    elif pw[i] == 'T': arr[3] += 1\n",
    "        \n",
    "if (arr[0] >= a) and (arr[1] >= c) and (arr[2] >= g) and (arr[3] >= t):\n",
    "    cnt += 1\n",
    "\n",
    "for i in range (s-p):\n",
    "    if pw[i] == 'A': arr[0] -= 1\n",
    "    elif pw[i] == 'C': arr[1] -= 1\n",
    "    elif pw[i] == 'G': arr[2] -= 1\n",
    "    elif pw[i] == 'T': arr[3] -= 1\n",
    "        \n",
    "    if pw[i+p] == 'A': arr[0] += 1\n",
    "    elif pw[i+p] == 'C': arr[1] += 1\n",
    "    elif pw[i+p] == 'G': arr[2] += 1\n",
    "    elif pw[i+p] == 'T': arr[3] += 1\n",
    "        \n",
    "    if (arr[0] >= a) and (arr[1] >= c) and (arr[2] >= g) and (arr[3] >= t):\n",
    "        cnt += 1\n",
    "        \n",
    "print(cnt)\n",
    "\n",
    "## 너무 긴가 싶다 hash로 하면 훨씬 더 짧게 짤 수 있을 것 같은데"
   ]
  },
  {
   "cell_type": "code",
   "execution_count": 10,
   "id": "669a005d",
   "metadata": {},
   "outputs": [
    {
     "data": {
      "text/plain": [
       "2"
      ]
     },
     "execution_count": 10,
     "metadata": {},
     "output_type": "execute_result"
    }
   ],
   "source": [
    "## 1874 - 스택 수열\n",
    "from collections import deque\n",
    "import sys\n",
    "\n",
    "k = int(input())\n",
    "target = deque()\n",
    "for i in range (k):\n",
    "    target.append(int(sys.stdin.readline().rstrip()))\n",
    "    \n",
    "arr = deque()\n",
    "cnt = 0\n",
    "n = 1\n",
    "\n",
    "dap = []\n",
    "\n",
    "while True:\n",
    "    if len(arr) == 0 or arr[-1] != target[0]:\n",
    "        arr.append(n)\n",
    "        n += 1\n",
    "        dap.append('+')\n",
    "    elif arr[-1] == target[0]:\n",
    "        arr.pop()\n",
    "        target.popleft()\n",
    "        dap.append('-')\n",
    "        cnt += 1\n",
    "\n",
    "    if cnt == k:\n",
    "        for s in dap : print(s)\n",
    "        break\n",
    "        \n",
    "    if n > k+1 :\n",
    "        print(\"NO\")\n",
    "        break"
   ]
  },
  {
   "cell_type": "code",
   "execution_count": 13,
   "id": "3b4b151b",
   "metadata": {},
   "outputs": [
    {
     "name": "stdout",
     "output_type": "stream",
     "text": [
      "6\n",
      "4\n"
     ]
    }
   ],
   "source": [
    "## 2164 - 카드2\n",
    "\n",
    "import sys\n",
    "from collections import deque\n",
    "\n",
    "a = int(input())\n",
    "arr = deque()\n",
    "for i in range (1, a+1):\n",
    "    arr.append(i)\n",
    "while len(arr)!=1:\n",
    "    arr.popleft()\n",
    "    arr.append(arr[0])\n",
    "    arr.popleft()\n",
    "print(arr[0])"
   ]
  },
  {
   "cell_type": "code",
   "execution_count": null,
   "id": "9a1ace81",
   "metadata": {},
   "outputs": [],
   "source": [
    "## 11286 - 절댓값 힙\n",
    "\n",
    "import heapq\n",
    "import sys\n",
    "read = sys.stdin.readline\n",
    "\n",
    "mrr = []\n",
    "prr = []\n",
    "for i in range (int(input())):\n",
    "    k = int(read())\n",
    "    if k == 0:\n",
    "        if len(mrr) == 0 and len(prr) == 0:\n",
    "            print(0)\n",
    "        elif len(mrr) == 0 :\n",
    "            print(heapq.heappop(prr))\n",
    "        elif len(prr) == 0 :\n",
    "            print(-heapq.heappop(mrr))\n",
    "        else :\n",
    "            if mrr[0] > prr[0] :\n",
    "                print(heapq.heappop(prr))\n",
    "            else :\n",
    "                print(-heapq.heappop(mrr))\n",
    "    else :\n",
    "        if k < 0:\n",
    "            heapq.heappush(mrr, -k)\n",
    "        else:\n",
    "            heapq.heappush(prr, k)"
   ]
  }
 ],
 "metadata": {
  "kernelspec": {
   "display_name": "Python 3 (ipykernel)",
   "language": "python",
   "name": "python3"
  },
  "language_info": {
   "codemirror_mode": {
    "name": "ipython",
    "version": 3
   },
   "file_extension": ".py",
   "mimetype": "text/x-python",
   "name": "python",
   "nbconvert_exporter": "python",
   "pygments_lexer": "ipython3",
   "version": "3.10.9"
  }
 },
 "nbformat": 4,
 "nbformat_minor": 5
}
