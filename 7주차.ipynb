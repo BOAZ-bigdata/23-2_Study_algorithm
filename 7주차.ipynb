{
 "cells": [
  {
   "cell_type": "code",
   "execution_count": 158,
   "id": "89479264",
   "metadata": {},
   "outputs": [
    {
     "name": "stdout",
     "output_type": "stream",
     "text": [
      "4 4\n",
      "1\n",
      "1 3 4\n",
      "2 3 1\n",
      "4 3 2\n",
      "1 2 3\n",
      "0\n",
      "inf\n",
      "inf\n",
      "inf\n"
     ]
    }
   ],
   "source": [
    "## 1753 최단경로\n",
    "\n",
    "import sys\n",
    "import heapq\n",
    "\n",
    "input = sys.stdin.readline\n",
    "n, m = map(int, input().split())\n",
    "start = int(input())\n",
    "graph = [[] * (n+1) for _ in range(n+1)]\n",
    "INF = int(1e9)\n",
    "distance = [INF] * (n+1)\n",
    "\n",
    "for _ in range(m):\n",
    "    a, b, c = map(int, input().split())\n",
    "    graph[a].append((b, c))\n",
    "\n",
    "def dijkstra(start):\n",
    "    q = []\n",
    "    heapq.heappush(q, (0, start))\n",
    "    distance[start] = 0\n",
    "\n",
    "    while q:\n",
    "        dist, now = heapq.heappop(q)\n",
    "\n",
    "        if distance[now] < dist:\n",
    "            continue\n",
    "\n",
    "        for i in graph[now]:\n",
    "            current_cost = distance[now] + i[1]\n",
    "\n",
    "            if current_cost < distance[i[0]]:\n",
    "                distance[i[0]] = current_cost\n",
    "                heapq.heappush(q, (current_cost, i[0]))\n",
    "\n",
    "dijkstra(start)\n",
    "\n",
    "for i in range(1, n+1):\n",
    "    if distance[i] == int(1e9):\n",
    "        print(\"INF\")\n",
    "    \n",
    "    else:\n",
    "        print(distance[i])"
   ]
  },
  {
   "cell_type": "code",
   "execution_count": 162,
   "id": "3caa67d1",
   "metadata": {},
   "outputs": [
    {
     "data": {
      "text/plain": [
       "0"
      ]
     },
     "execution_count": 162,
     "metadata": {},
     "output_type": "execute_result"
    }
   ],
   "source": [
    "## 11657 타임머신\n",
    "import sys\n",
    "import math\n",
    "input = sys.stdin.readline\n",
    "INF = math.inf\n",
    "\n",
    "def bellman_ford(start):\n",
    "    dist[start] = 0\n",
    "\n",
    "    for i in range(1, n + 1):\n",
    "        for j in range(m):\n",
    "            now, next, cost = edges[j][0], edges[j][1], edges[j][2]\n",
    "            if dist[now] != INF and dist[next] > dist[now] + cost:\n",
    "                dist[next] = dist[now] + cost\n",
    "                if i == n:\n",
    "                    return True\n",
    "\n",
    "    return False\n",
    "\n",
    "\n",
    "n, m = map(int, input().split())\n",
    "edges = []\n",
    "dist = [INF] * (n + 1)\n",
    "\n",
    "for _ in range(m):\n",
    "    a, b, c = map(int, input().split())\n",
    "    edges.append((a, b, c))\n",
    "\n",
    "negative_cycle = bellman_ford(1)\n",
    "\n",
    "if negative_cycle:\n",
    "    print(-1)\n",
    "else:\n",
    "    for i in range(2, n + 1):\n",
    "        if dist[i] == INF:\n",
    "            print(-1)\n",
    "        else:\n",
    "            print(dist[i])"
   ]
  },
  {
   "cell_type": "code",
   "execution_count": 165,
   "id": "7b561ff6",
   "metadata": {},
   "outputs": [
    {
     "name": "stdout",
     "output_type": "stream",
     "text": [
      "[(0, 2)]\n"
     ]
    }
   ],
   "source": [
    "## 1389번 케빈 베이컨의 6단계 법칙\n",
    "import sys\n",
    "from collections import deque\n",
    "\n",
    "\n",
    "def bfs(graph, start):\n",
    "    num = [0] * (n+1)\n",
    "    visited = [start]\n",
    "    queue = deque()\n",
    "    queue.append(start)\n",
    "\n",
    "    while queue:\n",
    "        a = queue.popleft()\n",
    "        for i in graph[a]:\n",
    "            if i not in visited:\n",
    "                num[i] = num[a] + 1\n",
    "                visited.append(i)\n",
    "                queue.append(i)\n",
    "    return sum(num)\n",
    "\n",
    "\n",
    "if __name__ == '__main__':\n",
    "    n, m = map(int, sys.stdin.readline().split())\n",
    "    graph = [[] for _ in range(n+1)]\n",
    "    for i in range(m):\n",
    "        a, b = map(int, sys.stdin.readline().split())\n",
    "        graph[a].append(b)\n",
    "        graph[b].append(a)\n",
    "\n",
    "    result = []\n",
    "    for i in range(1, n+1):\n",
    "        result.append(bfs(graph, i))\n",
    "\n",
    "    print(result.index(min(result))+1)"
   ]
  },
  {
   "cell_type": "code",
   "execution_count": null,
   "id": "4f5ef351",
   "metadata": {},
   "outputs": [],
   "source": [
    "## 심화 그래프 이론들은 너무 어렵네요... 필사하다싶이 하면서 풀었습니다 ㅠㅠ"
   ]
  }
 ],
 "metadata": {
  "kernelspec": {
   "display_name": "Python 3 (ipykernel)",
   "language": "python",
   "name": "python3"
  },
  "language_info": {
   "codemirror_mode": {
    "name": "ipython",
    "version": 3
   },
   "file_extension": ".py",
   "mimetype": "text/x-python",
   "name": "python",
   "nbconvert_exporter": "python",
   "pygments_lexer": "ipython3",
   "version": "3.10.9"
  }
 },
 "nbformat": 4,
 "nbformat_minor": 5
}
