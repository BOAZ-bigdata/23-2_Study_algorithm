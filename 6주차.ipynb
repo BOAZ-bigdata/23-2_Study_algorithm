{
 "cells": [
  {
   "cell_type": "code",
   "execution_count": 6,
   "id": "b611f492",
   "metadata": {},
   "outputs": [
    {
     "name": "stdout",
     "output_type": "stream",
     "text": [
      "6 4\n"
     ]
    },
    {
     "ename": "IndexError",
     "evalue": "list index out of range",
     "output_type": "error",
     "traceback": [
      "\u001b[1;31m---------------------------------------------------------------------------\u001b[0m",
      "\u001b[1;31mIndexError\u001b[0m                                Traceback (most recent call last)",
      "Cell \u001b[1;32mIn[6], line 18\u001b[0m\n\u001b[0;32m     16\u001b[0m \u001b[38;5;28;01mfor\u001b[39;00m i \u001b[38;5;129;01min\u001b[39;00m \u001b[38;5;28mrange\u001b[39m(b):\n\u001b[0;32m     17\u001b[0m     \u001b[38;5;28;01mfor\u001b[39;00m j \u001b[38;5;129;01min\u001b[39;00m \u001b[38;5;28mrange\u001b[39m(a):\n\u001b[1;32m---> 18\u001b[0m         \u001b[38;5;28;01mif\u001b[39;00m arr[i][j] \u001b[38;5;241m==\u001b[39m \u001b[38;5;241m1\u001b[39m: rip\u001b[38;5;241m.\u001b[39mappend([i,j])\n\u001b[0;32m     21\u001b[0m \u001b[38;5;28;01mfor\u001b[39;00m s \u001b[38;5;129;01min\u001b[39;00m rip:\n\u001b[0;32m     22\u001b[0m     \u001b[38;5;28;01mfor\u001b[39;00m i \u001b[38;5;129;01min\u001b[39;00m \u001b[38;5;28mrange\u001b[39m(\u001b[38;5;241m4\u001b[39m):\n",
      "\u001b[1;31mIndexError\u001b[0m: list index out of range"
     ]
    }
   ],
   "source": [
    "## 7576 토마토\n",
    "\n",
    "import sys\n",
    "\n",
    "a, b = map(int,input().split())\n",
    "arr = []\n",
    "for i in range(b):\n",
    "    arr.append(list(map(int, sys.stdin.readline().rstrip().split())))\n",
    "cache = True\n",
    "\n",
    "rip = []\n",
    "    \n",
    "xx = [0,0,1,-1]\n",
    "yy = [1,-1,0,0]\n",
    "\n",
    "for i in range(b):\n",
    "    for j in range(a):\n",
    "        if arr[i][j] == 1: rip.append([i,j])\n",
    "    \n",
    "\n",
    "for s in rip:\n",
    "    for i in range(4):\n",
    "        xp = s[0] + yy[i]\n",
    "        yp = s[1] + xx[i] \n",
    "        if 0 <= xp < b and 0 <= yp < a:\n",
    "            if arr[xp][yp] == 0:\n",
    "                arr[xp][yp] = arr[s[0]][s[1]] + 1\n",
    "                rip.append([xp,yp])\n",
    "                \n",
    "dap = 0\n",
    "cache = True\n",
    "\n",
    "for i in range(b):\n",
    "    if 0 in arr[i]:\n",
    "        print(-1)\n",
    "        cache = False\n",
    "        break\n",
    "    else :\n",
    "        if max(arr[i]) > dap:\n",
    "            dap = max(arr[i])\n",
    "\n",
    "if cache == True:\n",
    "    print(dap - 1)"
   ]
  },
  {
   "cell_type": "code",
   "execution_count": 7,
   "id": "cb6228d7",
   "metadata": {},
   "outputs": [
    {
     "name": "stdout",
     "output_type": "stream",
     "text": [
      "7\n",
      "6\n",
      "1 2\n",
      "2 3\n",
      "1 5\n",
      "5 2\n",
      "5 6\n",
      "4 7\n",
      "4\n"
     ]
    }
   ],
   "source": [
    "## 2606 바이러스\n",
    "\n",
    "k = int(input())\n",
    "n = int(input())\n",
    "arr = []\n",
    "\n",
    "for i in range (k+1):\n",
    "    arr.append([])\n",
    "    \n",
    "for i in range (n):\n",
    "    a, b = map(int,input().split())\n",
    "    arr[a].append(b)\n",
    "    arr[b].append(a)\n",
    "\n",
    "virus = [1]\n",
    "vn = 1\n",
    "ee = 1\n",
    "\n",
    "while True:\n",
    "    \n",
    "    result = []\n",
    "    \n",
    "    for i in range (len(arr[vn])):\n",
    "        virus.append(arr[vn][i])\n",
    "    \n",
    "    for i in virus:\n",
    "        if i not in result:\n",
    "            result.append(i)\n",
    "    \n",
    "    if len(result) == 0:\n",
    "        break\n",
    "    \n",
    "    virus = result\n",
    "    \n",
    "    if len(virus) <= ee:\n",
    "        break\n",
    "    \n",
    "    vn = virus[ee]\n",
    "    ee += 1\n",
    "    \n",
    "print (len(virus) - 1)"
   ]
  },
  {
   "cell_type": "code",
   "execution_count": 29,
   "id": "24726327",
   "metadata": {},
   "outputs": [
    {
     "name": "stdout",
     "output_type": "stream",
     "text": [
      "9\n",
      "8 6\n",
      "7\n",
      "1 2\n",
      "1 3\n",
      "2 7\n",
      "2 8\n",
      "2 9\n",
      "4 5\n",
      "4 6\n",
      "-1\n"
     ]
    }
   ],
   "source": [
    "## 2644 촌수계산\n",
    "\n",
    "n = int(input())\n",
    "a, b = map(int, input().split())\n",
    "k = int(input())\n",
    "\n",
    "arr = [[] for _ in range(n+1)]\n",
    "for i in range(k):\n",
    "    x, y = map(int, input().split())\n",
    "    arr[x].append(y)\n",
    "    arr[y].append(x)\n",
    "\n",
    "vst = [[a]]   ##풀이의 핵심, vst 속에 단계를 나눔\n",
    "z = 0\n",
    "for i in vst:\n",
    "    if len(i) == 0:\n",
    "        print(-1)\n",
    "        break\n",
    "    vst.append([])\n",
    "    z += 1\n",
    "    for j in i:\n",
    "        for ss in arr[j]:\n",
    "            vst[z].append(ss)\n",
    "    arr[j] = []\n",
    "    if b in vst[z]:\n",
    "        print(z)\n",
    "        break"
   ]
  }
 ],
 "metadata": {
  "kernelspec": {
   "display_name": "Python 3 (ipykernel)",
   "language": "python",
   "name": "python3"
  },
  "language_info": {
   "codemirror_mode": {
    "name": "ipython",
    "version": 3
   },
   "file_extension": ".py",
   "mimetype": "text/x-python",
   "name": "python",
   "nbconvert_exporter": "python",
   "pygments_lexer": "ipython3",
   "version": "3.10.9"
  }
 },
 "nbformat": 4,
 "nbformat_minor": 5
}
