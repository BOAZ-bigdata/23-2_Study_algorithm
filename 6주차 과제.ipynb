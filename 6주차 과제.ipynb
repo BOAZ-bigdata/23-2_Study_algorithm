{
 "cells": [
  {
   "cell_type": "code",
   "execution_count": 1,
   "id": "3d1ce0d9",
   "metadata": {},
   "outputs": [
    {
     "name": "stdout",
     "output_type": "stream",
     "text": [
      "6 5\n",
      "1 2\n",
      "2 5\n",
      "5 1\n",
      "3 4\n",
      "4 6\n",
      "2\n"
     ]
    }
   ],
   "source": [
    "# 백준 11724\n",
    "\n",
    "''' 인접 리스트 사용하는 문제.'''\n",
    "\n",
    "# 노드 개수: N, 에지 개수: M 입력\n",
    "N, M = map(int, input().split())\n",
    "\n",
    "# 인접 리스트를 생성하여 그래프 표현 준비\n",
    "arr = [[] for _ in range(N + 1)]\n",
    "\n",
    "# 노드간의 연결 정보 입력\n",
    "for _ in range(M):\n",
    "    u, v = map(int, input().split())\n",
    "    arr[u].append(v)\n",
    "    arr[v].append(u)\n",
    "\n",
    "# 연결 정보 확인을 위한 dfs(깊이 우선 탐색) 구현 \n",
    "def dfs(node):\n",
    "    visited[node] = True\n",
    "    for next_node in arr[node]:\n",
    "        if not visited[next_node]:\n",
    "            dfs(next_node)\n",
    "\n",
    "# 연결 개수 도출\n",
    "cnt = 0\n",
    "visited = [False] * (N + 1)\n",
    "for n in range(1, N + 1):    \n",
    "    if not visited[n]:\n",
    "        dfs(n)\n",
    "        cnt += 1\n",
    "\n",
    "print(cnt)"
   ]
  },
  {
   "cell_type": "code",
   "execution_count": 6,
   "id": "3631587d",
   "metadata": {},
   "outputs": [
    {
     "name": "stdout",
     "output_type": "stream",
     "text": [
      "7 8\n",
      "0 1 3\n",
      "1 1 7\n",
      "NO\n",
      "0 7 6\n",
      "1 7 1\n",
      "NO\n",
      "0 3 7\n",
      "0 4 2\n",
      "0 1 1 \n",
      "1 1 1\n",
      "YES\n"
     ]
    }
   ],
   "source": [
    "# 백준 1717번\n",
    "\n",
    "# 입력 데이터 n, m 및 대표 노드 정보를 담기 위한 parent 리스트 생성\n",
    "N, M = map(int, input().split())\n",
    "parent = [0] * (N + 1)\n",
    "\n",
    "# 파인드 연산 함수 구축\n",
    "def find(a):\n",
    "\tif a == parent[a]:\n",
    "\t\treturn a\n",
    "\telse:\n",
    "\t\tparent[a] = find(parent[a]) # 재귀함수 형태\n",
    "\t\treturn parent[a]\n",
    "\n",
    "# 유니온 연산 함수 구축\n",
    "def union(a,b):\n",
    "\ta = find(a)\n",
    "\tb = find(b)\n",
    "\tif a != b:\n",
    "\t\tparent[b] = a\n",
    "\n",
    "# 대표 노드가 같은지 여부를 확인 하는 함수 구축\n",
    "def checksame(a, b):\n",
    "    a = find(a)\n",
    "    b = find(b)\n",
    "    if a == b:\n",
    "        return True\n",
    "    return False\n",
    "\n",
    "# 대표 노드를 자기 자신으로 초기화\n",
    "for i in range(0, N + 1):\n",
    "    parent[i] = i\n",
    "\n",
    "# 문제에서 언급한 질의 수행\n",
    "for k in range(M):\n",
    "    q, a, b = map(int, input().split())\n",
    "    if q == 0:\n",
    "        union(a, b)\n",
    "    else:\n",
    "        if checksame(a, b):\n",
    "            print(\"YES\")\n",
    "        else:\n",
    "            print(\"NO\")"
   ]
  },
  {
   "cell_type": "code",
   "execution_count": 7,
   "id": "fcf6664a",
   "metadata": {},
   "outputs": [
    {
     "name": "stdout",
     "output_type": "stream",
     "text": [
      "4 2\n",
      "4 2\n",
      "3 1\n",
      "3\n",
      "4\n",
      "1\n",
      "2\n"
     ]
    }
   ],
   "source": [
    "# 백준 2252번\n",
    "# 큐를 이용해서 문제를 풀어야 함으로 deque 임포트\n",
    "from collections import deque\n",
    "\n",
    "# 입력값 (N: 노드 개수, M: 에지 개수)\n",
    "N, M = map(int, input().split())\n",
    "\n",
    "# 인접 리스트 생성\n",
    "bin_list = [[] for i in range(N + 1)]\n",
    "\n",
    "# 진입 차수 리스트 생성\n",
    "indegree = [0] * (N + 1)\n",
    "\n",
    "# 키 비교 정보 저장 및 진입 차수 데이터 저장\n",
    "for i in range(M):\n",
    "\t\tA, B = map(int, input().split())\n",
    "\t\tbin_list[A].append(B)\n",
    "\t\tindegree[B] += 1\n",
    "\n",
    "# 큐 생성\n",
    "queue = deque()\n",
    "\n",
    "# 진입 차수가 0인 노드 큐에 삽입 \n",
    "for i in range(1, N+1):\n",
    "\t\tif indegree[i] == 0:\n",
    "\t\t\tqueue.append(i)\n",
    "\n",
    "# 위상 정렬 수행\n",
    "while queue:\n",
    "\t\tpresent = queue.popleft()\n",
    "\t\tprint(present)\n",
    "\t\tfor next in bin_list[present]:\n",
    "\t\t\t\tindegree[next] -= 1\n",
    "\t\t\t\tif indegree[next] == 0:\n",
    "\t\t\t\t\t\tqueue.append(next)"
   ]
  },
  {
   "cell_type": "code",
   "execution_count": null,
   "id": "1fd2c0f8",
   "metadata": {},
   "outputs": [],
   "source": []
  }
 ],
 "metadata": {
  "kernelspec": {
   "display_name": "Python 3 (ipykernel)",
   "language": "python",
   "name": "python3"
  },
  "language_info": {
   "codemirror_mode": {
    "name": "ipython",
    "version": 3
   },
   "file_extension": ".py",
   "mimetype": "text/x-python",
   "name": "python",
   "nbconvert_exporter": "python",
   "pygments_lexer": "ipython3",
   "version": "3.10.6"
  }
 },
 "nbformat": 4,
 "nbformat_minor": 5
}
