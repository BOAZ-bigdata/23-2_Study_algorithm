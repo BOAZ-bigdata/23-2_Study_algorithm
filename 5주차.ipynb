{
 "cells": [
  {
   "cell_type": "code",
   "execution_count": 14,
   "id": "bc34a5aa",
   "metadata": {},
   "outputs": [
    {
     "name": "stdout",
     "output_type": "stream",
     "text": [
      "1 10\n",
      "2\n",
      "3\n",
      "5\n",
      "7\n"
     ]
    }
   ],
   "source": [
    "## 1929번 소수 구하기\n",
    "\n",
    "import math\n",
    "\n",
    "m, n = map(int,input().split())\n",
    "arr = [1 for i in range(n + 1)]\n",
    "\n",
    "for i in range (2, int(math.sqrt(n)+1)):\n",
    "    if arr[i] == 1:\n",
    "        k = 2\n",
    "        while i * k <= n:\n",
    "            arr[i * k] = 0\n",
    "            k += 1\n",
    "\n",
    "for i in range(n + 1):\n",
    "    if arr[i] == 1:\n",
    "        if m <= i <= n and i != 1:\n",
    "            print (i)"
   ]
  },
  {
   "cell_type": "code",
   "execution_count": 134,
   "id": "5f05ac5c",
   "metadata": {},
   "outputs": [
    {
     "name": "stdout",
     "output_type": "stream",
     "text": [
      "102\n",
      "131\n"
     ]
    }
   ],
   "source": [
    "# 1747 소수 팰린드롬\n",
    "import math\n",
    "\n",
    "n = int(input())\n",
    "arr = [1 for i in range(1200000)]\n",
    "cnt = 0\n",
    "\n",
    "for i in range (2, 1000):\n",
    "    if arr[i] == 1:\n",
    "        k = 2\n",
    "        while i * k <= 1199999:\n",
    "            arr[i * k] = 0\n",
    "            k += 1\n",
    "            \n",
    "for i in arr[1:]:\n",
    "    cnt += 1\n",
    "    Y = True\n",
    "    if i == 1 and cnt >= n:\n",
    "        for j in range(len(str(cnt))//2):\n",
    "            if str(cnt)[j] != str(cnt)[-1-j]:\n",
    "                Y = False\n",
    "                break\n",
    "        \n",
    "        if Y:\n",
    "            if cnt == 1:\n",
    "                print(2)\n",
    "            else:\n",
    "                print(cnt)\n",
    "            break"
   ]
  },
  {
   "cell_type": "code",
   "execution_count": 157,
   "id": "fbb30f56",
   "metadata": {},
   "outputs": [
    {
     "name": "stdout",
     "output_type": "stream",
     "text": [
      "3 6\n",
      "111"
     ]
    }
   ],
   "source": [
    "## 1830번 최대공약수\n",
    "import math\n",
    "a,b = map(int,input().split())\n",
    "for i in range(math.gcd(a,b)):\n",
    "    print(1, end = '')"
   ]
  },
  {
   "cell_type": "code",
   "execution_count": 168,
   "id": "4fac2e97",
   "metadata": {},
   "outputs": [
    {
     "name": "stdout",
     "output_type": "stream",
     "text": [
      "5\n",
      "4 0 1 1\n",
      "4 1 3 1\n",
      "4 2 5 1\n",
      "4 3 7 1\n"
     ]
    }
   ],
   "source": [
    "## 1033번 칵테일\n",
    "arr = []\n",
    "k = int(input())\n",
    "for i in range(k-1):\n",
    "    arr.append(list(map(int,input().split())))\n",
    "    if arr[-1][2] == arr[-1][3]:\n",
    "        arr[-1][2] = arr[-1][2] = 2\n",
    "\n",
    "brr = [1 for i in range (k)]\n",
    "\n",
    "brr[arr[0][0]] *= arr[0][2]\n",
    "brr[arr[0][1]] *= arr[0][3]\n",
    "\n",
    "vst = [arr[0][0], arr[0][1]]\n",
    "\n",
    "for lst in arr:\n",
    "    if (lst[0] not in vst) and (lst[1] not in vst):\n",
    "        arr.append(lst)\n",
    "    else:\n",
    "        "
   ]
  },
  {
   "cell_type": "code",
   "execution_count": 196,
   "id": "1a6fa215",
   "metadata": {},
   "outputs": [
    {
     "name": "stdout",
     "output_type": "stream",
     "text": [
      "2\n",
      "5\n",
      "2\n",
      "100\n",
      "10\n"
     ]
    }
   ],
   "source": [
    "# 6359번 만취한 상범이\n",
    "\n",
    "for i in range (int(input())):\n",
    "    k = int(input())\n",
    "    prison = [0 for i in range (k+1)]\n",
    "    for i in range (1,k+1):\n",
    "        for j in range(1,k+1):\n",
    "            if j%i == 0:\n",
    "                if prison[j] == 0:\n",
    "                    prison[j] = 1\n",
    "                else:\n",
    "                    prison[j] = 0\n",
    "                    \n",
    "    print(sum(prison))"
   ]
  },
  {
   "cell_type": "code",
   "execution_count": 191,
   "id": "a81d901f",
   "metadata": {},
   "outputs": [
    {
     "data": {
      "text/plain": [
       "0"
      ]
     },
     "execution_count": 191,
     "metadata": {},
     "output_type": "execute_result"
    }
   ],
   "source": [
    "##4948번 베르트랑 공준\n",
    "\n",
    "math\n",
    "\n",
    "arr = []\n",
    "for i in range (2,123456):\n",
    "    arr.append(2*i-1)           ## --> 시간 단축에 유의미한 것 같지는 않는데, 쉽게 뺄 수 있어서 빼긴 했다.\n",
    "    \n",
    "brr = [2]\n",
    "for i in arr:\n",
    "    add = True\n",
    "    for j in brr:\n",
    "        if i%j == 0:\n",
    "            add = False\n",
    "            break\n",
    "        if j > math.sqrt(i):    ## --> 처음에는 이걸 안 해줘서 시간이 너무 오래 걸렸다, 에라스토테네스 시간 단축의 KEY\n",
    "            break\n",
    "    if add == True:\n",
    "        brr.append(i)    \n",
    "    \n",
    "while True:\n",
    "    n = int(input())\n",
    "    if n == 0:\n",
    "        break\n",
    "    \n",
    "    dap = 0\n",
    "    for i in brr:\n",
    "        if i > 2*n:\n",
    "            break\n",
    "        if i > n :\n",
    "            dap += 1\n",
    "\n",
    "    print (dap)"
   ]
  },
  {
   "cell_type": "code",
   "execution_count": null,
   "id": "0a76123d",
   "metadata": {},
   "outputs": [],
   "source": [
    "## 정수론 너무 어려워요..."
   ]
  }
 ],
 "metadata": {
  "kernelspec": {
   "display_name": "Python 3 (ipykernel)",
   "language": "python",
   "name": "python3"
  },
  "language_info": {
   "codemirror_mode": {
    "name": "ipython",
    "version": 3
   },
   "file_extension": ".py",
   "mimetype": "text/x-python",
   "name": "python",
   "nbconvert_exporter": "python",
   "pygments_lexer": "ipython3",
   "version": "3.10.9"
  }
 },
 "nbformat": 4,
 "nbformat_minor": 5
}
